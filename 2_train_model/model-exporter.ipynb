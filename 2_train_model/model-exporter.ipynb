{
 "cells": [
  {
   "cell_type": "markdown",
   "id": "a5b67863",
   "metadata": {},
   "source": [
    "# Export model"
   ]
  },
  {
   "cell_type": "code",
   "execution_count": 1,
   "id": "13cf970c",
   "metadata": {},
   "outputs": [
    {
     "data": {
      "text/plain": [
       "'/home/ec2-user/SageMaker/amazon-sagemaker-tensorflow-form-field-det/2_train_model'"
      ]
     },
     "execution_count": 1,
     "metadata": {},
     "output_type": "execute_result"
    }
   ],
   "source": [
    "import os\n",
    "from pathlib import Path\n",
    "\n",
    "current_dir = str(Path.cwd())\n",
    "current_dir"
   ]
  },
  {
   "cell_type": "code",
   "execution_count": 2,
   "id": "c4dc9227",
   "metadata": {},
   "outputs": [
    {
     "data": {
      "text/plain": [
       "'753177091730.dkr.ecr.us-east-1.amazonaws.com/sagemaker-form-field-detection:20210809131501'"
      ]
     },
     "execution_count": 2,
     "metadata": {},
     "output_type": "execute_result"
    }
   ],
   "source": [
    "with open (os.path.join('docker', 'ecr_image_fullname.txt'), 'r') as f:\n",
    "    container = f.readlines()[0][:-1]\n",
    "\n",
    "container"
   ]
  },
  {
   "cell_type": "code",
   "execution_count": 35,
   "id": "9aed0a6f",
   "metadata": {},
   "outputs": [
    {
     "name": "stdout",
     "output_type": "stream",
     "text": [
      "CONTAINER ID        IMAGE                                                                                        COMMAND             CREATED             STATUS              PORTS               NAMES\n",
      "6afe84d8f8a3        753177091730.dkr.ecr.us-east-1.amazonaws.com/sagemaker-form-field-detection:20210809131501   \"/bin/bash\"         16 hours ago        Up 16 hours                             exporter\n"
     ]
    }
   ],
   "source": [
    "short_name='exporter'\n",
    "!docker ps -a"
   ]
  },
  {
   "cell_type": "code",
   "execution_count": 36,
   "id": "3714cf3a",
   "metadata": {},
   "outputs": [
    {
     "name": "stdout",
     "output_type": "stream",
     "text": [
      "exporter\n"
     ]
    }
   ],
   "source": [
    "!docker stop $short_name"
   ]
  },
  {
   "cell_type": "code",
   "execution_count": 37,
   "id": "f692fcfb",
   "metadata": {},
   "outputs": [
    {
     "name": "stdout",
     "output_type": "stream",
     "text": [
      "Error: No such container: exporter\n"
     ]
    }
   ],
   "source": [
    "!docker rm $short_name"
   ]
  },
  {
   "cell_type": "code",
   "execution_count": 38,
   "id": "3c79b5ea",
   "metadata": {},
   "outputs": [
    {
     "name": "stdout",
     "output_type": "stream",
     "text": [
      "9dc70eb49ec252d705cbac82c3baa54d1be75179ddd24c55460a1a6f1837e1b8\n"
     ]
    }
   ],
   "source": [
    "#!docker run --name cml_runner_az --gpus all -d -v /mnt/data01/processing-stages:/mydvc/processing-stages  -v /root/rosecyt-trainer/dvc_cache/:/mydvc/dvc_cache -e RUNNER_LABELS=cml,gpu,baremetal\n",
    "docker_mapped_source_dir = '/home/source_dir'\n",
    "\n",
    "!docker run --name $short_name -d --rm -i -t -w $docker_mapped_source_dir -v $current_dir/source_dir:$docker_mapped_source_dir -e MODEL_DIR=$docker_mapped_source_dir/checkpoint $container\n",
    "\n",
    "# %%bash\n",
    "# docker run --name $short_name -d \\\n",
    "#     --rm -i -t \\\n",
    "#     -v /home/ec2-user/SageMaker/amazon-sagemaker-tensorflow-form-field-det/2_train_model/source_dir:$docker_mapped_source_dir \\\n",
    "#     -e MODEL_DIR=$docker_mapped_source_dir \\\n",
    "#     $container"
   ]
  },
  {
   "cell_type": "code",
   "execution_count": 39,
   "id": "d9171ab5",
   "metadata": {},
   "outputs": [
    {
     "name": "stdout",
     "output_type": "stream",
     "text": [
      "CONTAINER ID        IMAGE                                                                                        COMMAND             CREATED             STATUS              PORTS               NAMES\n",
      "9dc70eb49ec2        753177091730.dkr.ecr.us-east-1.amazonaws.com/sagemaker-form-field-detection:20210809131501   \"/bin/bash\"         4 seconds ago       Up 3 seconds                            exporter\n",
      "worked\n"
     ]
    }
   ],
   "source": [
    "#check work\n",
    "!docker ps\n",
    "!docker exec -it $short_name echo \"worked\""
   ]
  },
  {
   "cell_type": "code",
   "execution_count": 40,
   "id": "bd8fcef2",
   "metadata": {},
   "outputs": [],
   "source": [
    "#!docker container inspect $short_name"
   ]
  },
  {
   "cell_type": "code",
   "execution_count": 41,
   "id": "7640a9ca",
   "metadata": {},
   "outputs": [
    {
     "name": "stdout",
     "output_type": "stream",
     "text": [
      "/home/source_dir\n"
     ]
    }
   ],
   "source": [
    "!docker exec -it $short_name pwd"
   ]
  },
  {
   "cell_type": "code",
   "execution_count": 26,
   "id": "1f50f938",
   "metadata": {},
   "outputs": [
    {
     "name": "stdout",
     "output_type": "stream",
     "text": [
      "checkpoint  ckpt-0.data-00000-of-00001\tckpt-0.index\n"
     ]
    }
   ],
   "source": [
    "!docker exec -it $short_name ls checkpoint"
   ]
  },
  {
   "cell_type": "code",
   "execution_count": 42,
   "id": "afd3dd12",
   "metadata": {},
   "outputs": [
    {
     "name": "stdout",
     "output_type": "stream",
     "text": [
      "pipeline config: /home/source_dir/ssd_efficientdet_d4_1024x1024_formdet.config saved_model: /home/source_dir/model_1 checkpoint: /home/source_dir/checkpoint\n"
     ]
    }
   ],
   "source": [
    "version=1\n",
    "pipeline_config = str(Path(docker_mapped_source_dir) / 'ssd_efficientdet_d4_1024x1024_formdet.config') \n",
    "checkpoint_dir = str(Path(docker_mapped_source_dir) / 'checkpoint')\n",
    "saved_model = str(Path(docker_mapped_source_dir) / f'model_{version}')\n",
    "print(f'pipeline config: {pipeline_config} saved_model: {saved_model} checkpoint: {checkpoint_dir}')"
   ]
  },
  {
   "cell_type": "code",
   "execution_count": 44,
   "id": "8d2c5ce8",
   "metadata": {},
   "outputs": [],
   "source": [
    " !sudo rm -rf source_dir/saved_model"
   ]
  },
  {
   "cell_type": "code",
   "execution_count": 45,
   "id": "ef9eef3e",
   "metadata": {},
   "outputs": [
    {
     "name": "stdout",
     "output_type": "stream",
     "text": [
      "Trained checkpoint dir: /home/source_dir/checkpoint/ exists: True\n",
      "I0812 19:55:47.625761 140139250874176 ssd_efficientnet_bifpn_feature_extractor.py:143] EfficientDet EfficientNet backbone version: efficientnet-b4\n",
      "I0812 19:55:47.625987 140139250874176 ssd_efficientnet_bifpn_feature_extractor.py:144] EfficientDet BiFPN num filters: 224\n",
      "I0812 19:55:47.626080 140139250874176 ssd_efficientnet_bifpn_feature_extractor.py:146] EfficientDet BiFPN num iterations: 7\n",
      "I0812 19:55:47.632981 140139250874176 efficientnet_model.py:147] round_filter input=32 output=48\n",
      "I0812 19:55:47.664329 140139250874176 efficientnet_model.py:147] round_filter input=32 output=48\n",
      "I0812 19:55:47.664499 140139250874176 efficientnet_model.py:147] round_filter input=16 output=24\n",
      "I0812 19:55:47.802603 140139250874176 efficientnet_model.py:147] round_filter input=16 output=24\n",
      "I0812 19:55:47.802788 140139250874176 efficientnet_model.py:147] round_filter input=24 output=32\n",
      "I0812 19:55:48.143701 140139250874176 efficientnet_model.py:147] round_filter input=24 output=32\n",
      "I0812 19:55:48.143876 140139250874176 efficientnet_model.py:147] round_filter input=40 output=56\n",
      "I0812 19:55:48.491043 140139250874176 efficientnet_model.py:147] round_filter input=40 output=56\n",
      "I0812 19:55:48.491244 140139250874176 efficientnet_model.py:147] round_filter input=80 output=112\n",
      "I0812 19:55:49.129874 140139250874176 efficientnet_model.py:147] round_filter input=80 output=112\n",
      "I0812 19:55:49.130057 140139250874176 efficientnet_model.py:147] round_filter input=112 output=160\n",
      "I0812 19:55:49.677071 140139250874176 efficientnet_model.py:147] round_filter input=112 output=160\n",
      "I0812 19:55:49.677248 140139250874176 efficientnet_model.py:147] round_filter input=192 output=272\n",
      "I0812 19:55:50.459027 140139250874176 efficientnet_model.py:147] round_filter input=192 output=272\n",
      "I0812 19:55:50.459204 140139250874176 efficientnet_model.py:147] round_filter input=320 output=448\n",
      "I0812 19:55:50.676809 140139250874176 efficientnet_model.py:147] round_filter input=1280 output=1792\n",
      "I0812 19:55:50.726653 140139250874176 efficientnet_model.py:458] Building model efficientnet with params ModelConfig(width_coefficient=1.4, depth_coefficient=1.8, resolution=380, dropout_rate=0.4, blocks=(BlockConfig(input_filters=32, output_filters=16, kernel_size=3, num_repeat=1, expand_ratio=1, strides=(1, 1), se_ratio=0.25, id_skip=True, fused_conv=False, conv_type='depthwise'), BlockConfig(input_filters=16, output_filters=24, kernel_size=3, num_repeat=2, expand_ratio=6, strides=(2, 2), se_ratio=0.25, id_skip=True, fused_conv=False, conv_type='depthwise'), BlockConfig(input_filters=24, output_filters=40, kernel_size=5, num_repeat=2, expand_ratio=6, strides=(2, 2), se_ratio=0.25, id_skip=True, fused_conv=False, conv_type='depthwise'), BlockConfig(input_filters=40, output_filters=80, kernel_size=3, num_repeat=3, expand_ratio=6, strides=(2, 2), se_ratio=0.25, id_skip=True, fused_conv=False, conv_type='depthwise'), BlockConfig(input_filters=80, output_filters=112, kernel_size=5, num_repeat=3, expand_ratio=6, strides=(1, 1), se_ratio=0.25, id_skip=True, fused_conv=False, conv_type='depthwise'), BlockConfig(input_filters=112, output_filters=192, kernel_size=5, num_repeat=4, expand_ratio=6, strides=(2, 2), se_ratio=0.25, id_skip=True, fused_conv=False, conv_type='depthwise'), BlockConfig(input_filters=192, output_filters=320, kernel_size=3, num_repeat=1, expand_ratio=6, strides=(1, 1), se_ratio=0.25, id_skip=True, fused_conv=False, conv_type='depthwise')), stem_base_filters=32, top_base_filters=1280, activation='simple_swish', batch_norm='default', bn_momentum=0.99, bn_epsilon=0.001, weight_decay=5e-06, drop_connect_rate=0.2, depth_divisor=8, min_depth=None, use_se=True, input_channels=3, num_classes=1000, model_name='efficientnet', rescale_input=False, data_format='channels_last', dtype='float32')\n",
      "WARNING:tensorflow:From /usr/local/lib/python3.6/dist-packages/tensorflow/python/autograph/impl/api.py:463: calling map_fn_v2 (from tensorflow.python.ops.map_fn) with back_prop=False is deprecated and will be removed in a future version.\n",
      "Instructions for updating:\n",
      "back_prop=False is deprecated. Consider using tf.stop_gradient instead.\n",
      "Instead of:\n",
      "results = tf.map_fn(fn, elems, back_prop=False)\n",
      "Use:\n",
      "results = tf.nest.map_structure(tf.stop_gradient, tf.map_fn(fn, elems))\n",
      "W0812 19:55:59.384933 140139250874176 deprecation.py:601] From /usr/local/lib/python3.6/dist-packages/tensorflow/python/autograph/impl/api.py:463: calling map_fn_v2 (from tensorflow.python.ops.map_fn) with back_prop=False is deprecated and will be removed in a future version.\n",
      "Instructions for updating:\n",
      "back_prop=False is deprecated. Consider using tf.stop_gradient instead.\n",
      "Instead of:\n",
      "results = tf.map_fn(fn, elems, back_prop=False)\n",
      "Use:\n",
      "results = tf.nest.map_structure(tf.stop_gradient, tf.map_fn(fn, elems))\n",
      "WARNING:tensorflow:Skipping full serialization of Keras layer <object_detection.meta_architectures.ssd_meta_arch.SSDMetaArch object at 0x7f7435784240>, because it is not built.\n",
      "W0812 19:56:25.651538 140139250874176 save_impl.py:77] Skipping full serialization of Keras layer <object_detection.meta_architectures.ssd_meta_arch.SSDMetaArch object at 0x7f7435784240>, because it is not built.\n",
      "W0812 19:58:30.875972 140139250874176 save.py:243] Found untraced functions such as WeightSharedConvolutionalBoxPredictor_layer_call_and_return_conditional_losses, WeightSharedConvolutionalBoxPredictor_layer_call_fn, WeightSharedConvolutionalBoxHead_layer_call_and_return_conditional_losses, WeightSharedConvolutionalBoxHead_layer_call_fn, WeightSharedConvolutionalBoxPredictor_layer_call_fn while saving (showing 5 of 1735). These functions will not be directly callable after loading.\n",
      "/usr/local/lib/python3.6/dist-packages/tensorflow/python/keras/utils/generic_utils.py:497: CustomMaskWarning: Custom mask layers require a config and must override get_config. When loading, the custom mask layer must be passed to the custom_objects argument.\n",
      "  category=CustomMaskWarning)\n",
      "WARNING:tensorflow:FOR KERAS USERS: The object that you are saving contains one or more Keras models or layers. If you are loading the SavedModel with `tf.keras.models.load_model`, continue reading (otherwise, you may ignore the following instructions). Please change your code to save with `tf.keras.models.save_model` or `model.save`, and confirm that the file \"keras.metadata\" exists in the export directory. In the future, Keras will only load the SavedModels that have this file. In other words, `tf.saved_model.save` will no longer write SavedModels that can be recovered as Keras models (this will apply in TF 2.5).\n",
      "\n",
      "FOR DEVS: If you are overwriting _tracking_metadata in your class, this property has been used to save metadata in the SavedModel. The metadta field will be deprecated soon, so please move the metadata to a different file.\n",
      "W0812 19:58:51.422167 140139250874176 save.py:1240] FOR KERAS USERS: The object that you are saving contains one or more Keras models or layers. If you are loading the SavedModel with `tf.keras.models.load_model`, continue reading (otherwise, you may ignore the following instructions). Please change your code to save with `tf.keras.models.save_model` or `model.save`, and confirm that the file \"keras.metadata\" exists in the export directory. In the future, Keras will only load the SavedModels that have this file. In other words, `tf.saved_model.save` will no longer write SavedModels that can be recovered as Keras models (this will apply in TF 2.5).\n",
      "\n",
      "FOR DEVS: If you are overwriting _tracking_metadata in your class, this property has been used to save metadata in the SavedModel. The metadta field will be deprecated soon, so please move the metadata to a different file.\n",
      "INFO:tensorflow:Assets written to: /home/source_dir/model_1/saved_model/assets\n",
      "I0812 19:58:54.314022 140139250874176 builder_impl.py:775] Assets written to: /home/source_dir/model_1/saved_model/assets\n",
      "INFO:tensorflow:Writing pipeline config file to /home/source_dir/model_1/pipeline.config\n",
      "I0812 19:58:58.172822 140139250874176 config_util.py:254] Writing pipeline config file to /home/source_dir/model_1/pipeline.config\n"
     ]
    }
   ],
   "source": [
    "!docker exec -it $short_name python exporter_main_v2.py --trained_checkpoint_dir $checkpoint_dir/ --pipeline_config_path $pipeline_config --output_directory $saved_model/\n",
    "# !docker exec -it $short_name python exporter_main_v2.py --trained_checkpoint_dir ./checkpoint --pipeline_config_path ./ssd_efficientdet_d4_1024x1024_formdet.config --output_directory ./saved_model\n"
   ]
  },
  {
   "cell_type": "code",
   "execution_count": 46,
   "id": "e8ed1add",
   "metadata": {},
   "outputs": [
    {
     "name": "stdout",
     "output_type": "stream",
     "text": [
      "done\n"
     ]
    }
   ],
   "source": [
    "print('done')"
   ]
  },
  {
   "cell_type": "markdown",
   "id": "87cbced3",
   "metadata": {},
   "source": [
    "### Rename saved_model dir to version num "
   ]
  },
  {
   "cell_type": "code",
   "execution_count": 50,
   "id": "2e7aa479",
   "metadata": {},
   "outputs": [],
   "source": [
    "!sudo mv source_dir/model_$version/saved_model source_dir/model_$version/$version"
   ]
  },
  {
   "cell_type": "markdown",
   "id": "18fad9ed",
   "metadata": {},
   "source": [
    "## Create a model archive file"
   ]
  },
  {
   "cell_type": "markdown",
   "id": "e4182b52",
   "metadata": {},
   "source": [
    "SageMaker models need to be packaged in .tar.gz files. When your endpoint is provisioned, the files in the archive will be extracted and put in /opt/ml/model/ on the endpoint."
   ]
  },
  {
   "cell_type": "code",
   "execution_count": 60,
   "id": "4ce98ef9",
   "metadata": {},
   "outputs": [
    {
     "name": "stdout",
     "output_type": "stream",
     "text": [
      "1/\n",
      "1/variables/\n",
      "1/variables/variables.data-00000-of-00001\n",
      "1/variables/variables.index\n",
      "1/assets/\n",
      "1/saved_model.pb\n"
     ]
    }
   ],
   "source": [
    "\n",
    "# !saved_model_cli show --all --dir /home/ec2-user/SageMaker/amazon-sagemaker-tensorflow-form-field-det/2_train_model/source_dir/saved_model/saved_model\n",
    "\n",
    "!tar -C source_dir/model_$version -cvzf form-field-det.tar.gz $version"
   ]
  },
  {
   "cell_type": "code",
   "execution_count": 61,
   "id": "f47da5b8",
   "metadata": {},
   "outputs": [
    {
     "name": "stdout",
     "output_type": "stream",
     "text": [
      "/home/ec2-user/SageMaker/amazon-sagemaker-tensorflow-form-field-det/2_train_model\n"
     ]
    }
   ],
   "source": [
    "!pwd\n"
   ]
  },
  {
   "cell_type": "code",
   "execution_count": null,
   "id": "d732922a",
   "metadata": {},
   "outputs": [],
   "source": []
  }
 ],
 "metadata": {
  "kernelspec": {
   "display_name": "conda_amazonei_tensorflow2_p36",
   "language": "python",
   "name": "conda_amazonei_tensorflow2_p36"
  },
  "language_info": {
   "codemirror_mode": {
    "name": "ipython",
    "version": 3
   },
   "file_extension": ".py",
   "mimetype": "text/x-python",
   "name": "python",
   "nbconvert_exporter": "python",
   "pygments_lexer": "ipython3",
   "version": "3.6.13"
  }
 },
 "nbformat": 4,
 "nbformat_minor": 5
}
