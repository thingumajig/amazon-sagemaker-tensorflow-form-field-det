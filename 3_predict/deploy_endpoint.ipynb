{
 "cells": [
  {
   "cell_type": "markdown",
   "metadata": {},
   "source": [
    "# Deploy your model on a SageMaker Endpoint and visualize predictions"
   ]
  },
  {
   "cell_type": "markdown",
   "metadata": {},
   "source": [
    "## Setup environment"
   ]
  },
  {
   "cell_type": "code",
   "execution_count": 9,
   "metadata": {},
   "outputs": [
    {
     "name": "stdout",
     "output_type": "stream",
     "text": [
      "def bucket: sagemaker-us-east-1-753177091730\n"
     ]
    }
   ],
   "source": [
    "import cv2\n",
    "import sagemaker\n",
    "import numpy as np\n",
    "import matplotlib.pyplot as plt\n",
    "from sagemaker import get_execution_role\n",
    "from sagemaker.utils import name_from_base\n",
    "from sagemaker.tensorflow import TensorFlowModel\n",
    "import visualization_utils as viz_utils\n",
    "\n",
    "\n",
    "import sagemaker, boto3, os\n",
    "\n",
    "bucket = sagemaker.Session().default_bucket()\n",
    "print(f'def bucket: {str(bucket)}')\n",
    "\n",
    "artifact_version = 1\n",
    "prefix = \"form-fields-det-model-artifact\"\n",
    "model_artifact_name = f'form-field-det-v{artifact_version}.tar.gz'\n",
    "\n",
    "role = sagemaker.get_execution_role()\n",
    "\n",
    "model_artefact = f's3://{str(bucket)}/{prefix}/{model_artifact_name}'"
   ]
  },
  {
   "cell_type": "markdown",
   "metadata": {},
   "source": [
    "## Create endpoint"
   ]
  },
  {
   "cell_type": "code",
   "execution_count": 10,
   "metadata": {},
   "outputs": [],
   "source": [
    "container_name = '753177091730.dkr.ecr.us-east-1.amazonaws.com/sagemaker-form-field-detection:20210809131501'\n",
    "image_name = 'sagemaker-form-field-detection'\n",
    "model = TensorFlowModel(\n",
    "    name=name_from_base(image_name),\n",
    "    model_data=model_artefact,\n",
    "    role=role,\n",
    "    framework_version='2.2'\n",
    ")"
   ]
  },
  {
   "cell_type": "code",
   "execution_count": 11,
   "metadata": {},
   "outputs": [
    {
     "name": "stderr",
     "output_type": "stream",
     "text": [
      "update_endpoint is a no-op in sagemaker>=2.\n",
      "See: https://sagemaker.readthedocs.io/en/stable/v2.html for details.\n"
     ]
    },
    {
     "name": "stdout",
     "output_type": "stream",
     "text": [
      "-------------!"
     ]
    }
   ],
   "source": [
    "predictor = model.deploy(initial_instance_count=1, instance_type='ml.m5.xlarge')"
   ]
  },
  {
   "cell_type": "markdown",
   "metadata": {},
   "source": [
    "## Predict"
   ]
  },
  {
   "cell_type": "code",
   "execution_count": 12,
   "metadata": {},
   "outputs": [],
   "source": [
    "def image_file_to_tensor(path):\n",
    "    cv_img = cv2.imread(path,1).astype('uint8')\n",
    "    cv_img = cv2.cvtColor(cv_img, cv2.COLOR_BGR2RGB)\n",
    "    return cv_img"
   ]
  },
  {
   "cell_type": "code",
   "execution_count": null,
   "metadata": {},
   "outputs": [],
   "source": [
    "img = image_file_to_tensor('test_images/22673445.jpg')\n",
    "\n",
    "input = {\n",
    "  'instances': [img.tolist()]\n",
    "}\n",
    "\n",
    "detections = predictor.predict(input)['predictions'][0]\n",
    "\n",
    "img_with_detections = img.copy()\n",
    "category_index = {1:{'id': 1, 'name': 'bee'}}\n",
    "detection_boxes = np.array(detections['detection_boxes'])\n",
    "detection_classes = [int(x) for x in detections['detection_classes']]\n",
    "detection_scores = detections['detection_scores']"
   ]
  },
  {
   "cell_type": "code",
   "execution_count": null,
   "metadata": {},
   "outputs": [],
   "source": [
    "%matplotlib inline\n",
    "\n",
    "viz_utils.visualize_boxes_and_labels_on_image_array(\n",
    "    img_with_detections,\n",
    "    detection_boxes,\n",
    "    detection_classes,\n",
    "    detection_scores,\n",
    "    category_index,\n",
    "    use_normalized_coordinates=True,\n",
    "    max_boxes_to_draw=100,\n",
    "    min_score_thresh=0.60,\n",
    "    agnostic_mode=False)\n",
    "\n",
    "plt.figure(figsize=(10,10))\n",
    "plt.imshow(img_with_detections)\n",
    "plt.show()"
   ]
  },
  {
   "cell_type": "markdown",
   "metadata": {},
   "source": [
    "## Delete endpoint"
   ]
  },
  {
   "cell_type": "code",
   "execution_count": null,
   "metadata": {},
   "outputs": [],
   "source": [
    "sagemaker.Session().delete_endpoint(predictor.endpoint)"
   ]
  }
 ],
 "metadata": {
  "kernelspec": {
   "display_name": "conda_amazonei_tensorflow2_p36",
   "language": "python",
   "name": "conda_amazonei_tensorflow2_p36"
  },
  "language_info": {
   "codemirror_mode": {
    "name": "ipython",
    "version": 3
   },
   "file_extension": ".py",
   "mimetype": "text/x-python",
   "name": "python",
   "nbconvert_exporter": "python",
   "pygments_lexer": "ipython3",
   "version": "3.6.13"
  }
 },
 "nbformat": 4,
 "nbformat_minor": 4
}
